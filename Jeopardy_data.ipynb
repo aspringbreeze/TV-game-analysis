{
 "cells": [
  {
   "cell_type": "markdown",
   "id": "9869a1c2",
   "metadata": {},
   "source": [
    "Read the dataset and get some info about it."
   ]
  },
  {
   "cell_type": "code",
   "execution_count": 12,
   "id": "86b21888",
   "metadata": {},
   "outputs": [
    {
     "name": "stdout",
     "output_type": "stream",
     "text": [
      "   Show Number    Air Date      Round                         Category  Value  \\\n",
      "0         4680  2004-12-31  Jeopardy!                          HISTORY   $200   \n",
      "1         4680  2004-12-31  Jeopardy!  ESPN's TOP 10 ALL-TIME ATHLETES   $200   \n",
      "2         4680  2004-12-31  Jeopardy!      EVERYBODY TALKS ABOUT IT...   $200   \n",
      "3         4680  2004-12-31  Jeopardy!                 THE COMPANY LINE   $200   \n",
      "4         4680  2004-12-31  Jeopardy!              EPITAPHS & TRIBUTES   $200   \n",
      "\n",
      "                                            Question      Answer  \n",
      "0  For the last 8 years of his life, Galileo was ...  Copernicus  \n",
      "1  No. 2: 1912 Olympian; football star at Carlisl...  Jim Thorpe  \n",
      "2  The city of Yuma in this state has a record av...     Arizona  \n",
      "3  In 1963, live on \"The Art Linkletter Show\", th...  McDonald's  \n",
      "4  Signer of the Dec. of Indep., framer of the Co...  John Adams  \n"
     ]
    }
   ],
   "source": [
    "import pandas as pd\n",
    "jeopardy = pd.read_csv('JEOPARDY_CSV.csv')\n",
    "print(jeopardy.head())"
   ]
  },
  {
   "cell_type": "code",
   "execution_count": 13,
   "id": "90c66203",
   "metadata": {},
   "outputs": [
    {
     "name": "stdout",
     "output_type": "stream",
     "text": [
      "Index(['Show Number', ' Air Date', ' Round', ' Category', ' Value',\n",
      "       ' Question', ' Answer'],\n",
      "      dtype='object')\n"
     ]
    }
   ],
   "source": [
    "print(jeopardy.columns)"
   ]
  },
  {
   "cell_type": "code",
   "execution_count": 14,
   "id": "20c5f7cd",
   "metadata": {},
   "outputs": [],
   "source": [
    "jeopardy.columns = jeopardy.columns.str.strip()"
   ]
  },
  {
   "cell_type": "code",
   "execution_count": 15,
   "id": "0d723422",
   "metadata": {},
   "outputs": [
    {
     "name": "stdout",
     "output_type": "stream",
     "text": [
      "<class 'pandas.core.frame.DataFrame'>\n",
      "RangeIndex: 216930 entries, 0 to 216929\n",
      "Data columns (total 7 columns):\n",
      " #   Column       Non-Null Count   Dtype \n",
      "---  ------       --------------   ----- \n",
      " 0   Show Number  216930 non-null  int64 \n",
      " 1   Air Date     216930 non-null  object\n",
      " 2   Round        216930 non-null  object\n",
      " 3   Category     216930 non-null  object\n",
      " 4   Value        216930 non-null  object\n",
      " 5   Question     216930 non-null  object\n",
      " 6   Answer       216928 non-null  object\n",
      "dtypes: int64(1), object(6)\n",
      "memory usage: 11.6+ MB\n",
      "None\n"
     ]
    }
   ],
   "source": [
    "print(jeopardy.info())"
   ]
  },
  {
   "cell_type": "markdown",
   "id": "20432785",
   "metadata": {},
   "source": [
    "Clean the question, answer, value and date columns to analyze further."
   ]
  },
  {
   "cell_type": "code",
   "execution_count": 16,
   "id": "69d16c0c",
   "metadata": {},
   "outputs": [],
   "source": [
    "import re\n",
    "def normalize_function(text):\n",
    "    text = str(text)\n",
    "    text = text.lower()\n",
    "    text = re.sub(r'[^\\w\\s]','',text)\n",
    "    return text\n",
    "\n",
    "def normalize_value(value):\n",
    "    value = re.sub(r'[^\\w\\s]','',value)\n",
    "    try:\n",
    "        value = int(value)\n",
    "    except:\n",
    "        value = 0\n",
    "    return value"
   ]
  },
  {
   "cell_type": "code",
   "execution_count": 17,
   "id": "e9e43d9f",
   "metadata": {},
   "outputs": [],
   "source": [
    "jeopardy['clean_question'] = jeopardy['Question'].apply(normalize_function)\n",
    "jeopardy['clean_answer'] = jeopardy['Answer'].apply(normalize_function)\n",
    "jeopardy['clean_value'] = jeopardy['Value'].apply(normalize_value)"
   ]
  },
  {
   "cell_type": "code",
   "execution_count": 18,
   "id": "ab838789",
   "metadata": {},
   "outputs": [],
   "source": [
    "import pandas as pd\n",
    "jeopardy['Air Date'] = pd.to_datetime(jeopardy['Air Date'])"
   ]
  },
  {
   "cell_type": "code",
   "execution_count": 19,
   "id": "6b12f3fc",
   "metadata": {},
   "outputs": [
    {
     "name": "stdout",
     "output_type": "stream",
     "text": [
      "   Show Number   Air Date      Round                         Category Value  \\\n",
      "0         4680 2004-12-31  Jeopardy!                          HISTORY  $200   \n",
      "1         4680 2004-12-31  Jeopardy!  ESPN's TOP 10 ALL-TIME ATHLETES  $200   \n",
      "2         4680 2004-12-31  Jeopardy!      EVERYBODY TALKS ABOUT IT...  $200   \n",
      "3         4680 2004-12-31  Jeopardy!                 THE COMPANY LINE  $200   \n",
      "4         4680 2004-12-31  Jeopardy!              EPITAPHS & TRIBUTES  $200   \n",
      "\n",
      "                                            Question      Answer  \\\n",
      "0  For the last 8 years of his life, Galileo was ...  Copernicus   \n",
      "1  No. 2: 1912 Olympian; football star at Carlisl...  Jim Thorpe   \n",
      "2  The city of Yuma in this state has a record av...     Arizona   \n",
      "3  In 1963, live on \"The Art Linkletter Show\", th...  McDonald's   \n",
      "4  Signer of the Dec. of Indep., framer of the Co...  John Adams   \n",
      "\n",
      "                                      clean_question clean_answer  clean_value  \n",
      "0  for the last 8 years of his life galileo was u...   copernicus          200  \n",
      "1  no 2 1912 olympian football star at carlisle i...   jim thorpe          200  \n",
      "2  the city of yuma in this state has a record av...      arizona          200  \n",
      "3  in 1963 live on the art linkletter show this c...    mcdonalds          200  \n",
      "4  signer of the dec of indep framer of the const...   john adams          200  \n"
     ]
    }
   ],
   "source": [
    "print(jeopardy.head())"
   ]
  },
  {
   "cell_type": "markdown",
   "id": "bf6cf9ce",
   "metadata": {},
   "source": [
    "In order to figure out whether to study past questions, study general knowledge, or not study it all, it would be helpful to figure out two things:\n",
    "\n",
    "How often the answer can be used for a question.\n",
    "How often questions are repeated.\n",
    "You can answer the second question by seeing how often complex words (> 6 characters) reoccur. You can answer the first question by seeing how many times words in the answer also occur in the question. We'll work on the first question and come back to the second."
   ]
  },
  {
   "cell_type": "code",
   "execution_count": 20,
   "id": "ec6578d6",
   "metadata": {},
   "outputs": [],
   "source": [
    "jeopardy['split_answer'] = jeopardy['clean_answer'].str.split()\n",
    "jeopardy['split_question'] = jeopardy['clean_question'].str.split()"
   ]
  },
  {
   "cell_type": "code",
   "execution_count": 21,
   "id": "89b71868",
   "metadata": {},
   "outputs": [
    {
     "name": "stdout",
     "output_type": "stream",
     "text": [
      "<class 'pandas.core.series.Series'>\n"
     ]
    }
   ],
   "source": [
    "print(type(jeopardy['split_answer']))"
   ]
  },
  {
   "cell_type": "code",
   "execution_count": 22,
   "id": "d49f46e0",
   "metadata": {},
   "outputs": [],
   "source": [
    "def func(row):\n",
    "    match_count = 0\n",
    "    split_answer = row['clean_answer'].split()\n",
    "    split_question = row['clean_question'].split()\n",
    "    if 'the' in split_answer:\n",
    "        split_answer.remove('the')\n",
    "    if len(split_answer) == 0:\n",
    "        return 0\n",
    "    for i in split_answer:\n",
    "        if i in split_question:\n",
    "            match_count += 1\n",
    "    \n",
    "    return(match_count/len(split_answer))"
   ]
  },
  {
   "cell_type": "code",
   "execution_count": 23,
   "id": "60588d34",
   "metadata": {},
   "outputs": [],
   "source": [
    "jeopardy['answer_in_question'] = jeopardy.apply(func, axis=1)"
   ]
  },
  {
   "cell_type": "code",
   "execution_count": 24,
   "id": "4459dae1",
   "metadata": {},
   "outputs": [
    {
     "data": {
      "text/plain": [
       "0.05792070323661065"
      ]
     },
     "execution_count": 24,
     "metadata": {},
     "output_type": "execute_result"
    }
   ],
   "source": [
    "jeopardy['answer_in_question'].mean()"
   ]
  },
  {
   "cell_type": "markdown",
   "id": "587aceda",
   "metadata": {},
   "source": [
    "Now it seems the probability of answer in a question is pretty low. We cann't rely on questions to get answer."
   ]
  },
  {
   "cell_type": "markdown",
   "id": "95d53ea2",
   "metadata": {},
   "source": [
    "I want to investigate how often new questions are repeats of older ones. Let's investigate it now."
   ]
  },
  {
   "cell_type": "code",
   "execution_count": 25,
   "id": "5fdd1470",
   "metadata": {},
   "outputs": [],
   "source": [
    "jeopardy = jeopardy.sort_values(by='Air Date')"
   ]
  },
  {
   "cell_type": "code",
   "execution_count": 26,
   "id": "9ba3bd02",
   "metadata": {},
   "outputs": [
    {
     "name": "stdout",
     "output_type": "stream",
     "text": [
      "       Show Number   Air Date             Round            Category  Value  \\\n",
      "84523            1 1984-09-10         Jeopardy!      LAKES & RIVERS   $100   \n",
      "84565            1 1984-09-10  Double Jeopardy!           THE BIBLE  $1000   \n",
      "84566            1 1984-09-10  Double Jeopardy!            '50'S TV  $1000   \n",
      "84567            1 1984-09-10  Double Jeopardy!  NATIONAL LANDMARKS  $1000   \n",
      "84568            1 1984-09-10  Double Jeopardy!           NOTORIOUS  $1000   \n",
      "\n",
      "                                                Question             Answer  \\\n",
      "84523            River mentioned most often in the Bible         the Jordan   \n",
      "84565  According to 1st Timothy, it is the \"root of a...  the love of money   \n",
      "84566  Name under which experimenter Don Herbert taug...         Mr. Wizard   \n",
      "84567    D.C. building shaken by November '83 bomb blast        the Capitol   \n",
      "84568  After the deed, he leaped to the stage shoutin...  John Wilkes Booth   \n",
      "\n",
      "                                          clean_question       clean_answer  \\\n",
      "84523            river mentioned most often in the bible         the jordan   \n",
      "84565  according to 1st timothy it is the root of all...  the love of money   \n",
      "84566  name under which experimenter don herbert taug...          mr wizard   \n",
      "84567       dc building shaken by november 83 bomb blast        the capitol   \n",
      "84568  after the deed he leaped to the stage shouting...  john wilkes booth   \n",
      "\n",
      "       clean_value            split_answer  \\\n",
      "84523          100           [the, jordan]   \n",
      "84565         1000  [the, love, of, money]   \n",
      "84566         1000            [mr, wizard]   \n",
      "84567         1000          [the, capitol]   \n",
      "84568         1000   [john, wilkes, booth]   \n",
      "\n",
      "                                          split_question  answer_in_question  \n",
      "84523    [river, mentioned, most, often, in, the, bible]            0.000000  \n",
      "84565  [according, to, 1st, timothy, it, is, the, roo...            0.333333  \n",
      "84566  [name, under, which, experimenter, don, herber...            0.000000  \n",
      "84567  [dc, building, shaken, by, november, 83, bomb,...            0.000000  \n",
      "84568  [after, the, deed, he, leaped, to, the, stage,...            0.000000  \n"
     ]
    }
   ],
   "source": [
    "print(jeopardy.head())"
   ]
  },
  {
   "cell_type": "code",
   "execution_count": 27,
   "id": "46da6cb8",
   "metadata": {},
   "outputs": [
    {
     "name": "stdout",
     "output_type": "stream",
     "text": [
      "<class 'pandas.core.frame.DataFrame'>\n",
      "Int64Index: 216930 entries, 84523 to 105930\n",
      "Data columns (total 13 columns):\n",
      " #   Column              Non-Null Count   Dtype         \n",
      "---  ------              --------------   -----         \n",
      " 0   Show Number         216930 non-null  int64         \n",
      " 1   Air Date            216930 non-null  datetime64[ns]\n",
      " 2   Round               216930 non-null  object        \n",
      " 3   Category            216930 non-null  object        \n",
      " 4   Value               216930 non-null  object        \n",
      " 5   Question            216930 non-null  object        \n",
      " 6   Answer              216928 non-null  object        \n",
      " 7   clean_question      216930 non-null  object        \n",
      " 8   clean_answer        216930 non-null  object        \n",
      " 9   clean_value         216930 non-null  int64         \n",
      " 10  split_answer        216930 non-null  object        \n",
      " 11  split_question      216930 non-null  object        \n",
      " 12  answer_in_question  216930 non-null  float64       \n",
      "dtypes: datetime64[ns](1), float64(1), int64(2), object(9)\n",
      "memory usage: 23.2+ MB\n",
      "None\n"
     ]
    }
   ],
   "source": [
    "print(jeopardy.info())"
   ]
  },
  {
   "cell_type": "code",
   "execution_count": 28,
   "id": "76a468e2",
   "metadata": {},
   "outputs": [
    {
     "name": "stdout",
     "output_type": "stream",
     "text": [
      "84523      [river, mentioned, most, often, in, the, bible]\n",
      "84565    [according, to, 1st, timothy, it, is, the, roo...\n",
      "84566    [name, under, which, experimenter, don, herber...\n",
      "84567    [dc, building, shaken, by, november, 83, bomb,...\n",
      "84568    [after, the, deed, he, leaped, to, the, stage,...\n",
      "Name: split_question, dtype: object\n"
     ]
    }
   ],
   "source": [
    "print(jeopardy['split_question'].head())"
   ]
  },
  {
   "cell_type": "code",
   "execution_count": 32,
   "id": "d9180c9e",
   "metadata": {},
   "outputs": [],
   "source": [
    "def check_question(col):\n",
    "    terms_used = set()\n",
    "    match_counter = 0\n",
    "    for index, cell in enumerate(col):\n",
    "        for i in cell:\n",
    "            if len(i) < 6:\n",
    "                cell.remove(i)\n",
    "            if i in terms_used:\n",
    "                match_counter += 1\n",
    "            else:\n",
    "                terms_used.add(i)\n",
    "        if index % 10000 == 0:\n",
    "            print(match_counter)\n",
    "    return (match_counter/len(terms_used))\n",
    "            "
   ]
  },
  {
   "cell_type": "code",
   "execution_count": 33,
   "id": "901cce52",
   "metadata": {},
   "outputs": [
    {
     "name": "stdout",
     "output_type": "stream",
     "text": [
      "0\n",
      "39019\n",
      "87476\n",
      "138083\n",
      "189424\n",
      "239526\n",
      "288869\n",
      "337850\n",
      "388409\n",
      "439243\n",
      "493262\n",
      "546869\n",
      "602052\n",
      "657416\n",
      "714890\n",
      "772202\n",
      "829654\n",
      "887413\n",
      "944223\n",
      "1000548\n",
      "1057069\n",
      "1112823\n",
      "11.889935808788623\n"
     ]
    }
   ],
   "source": [
    "print(check_question(jeopardy['split_question']))"
   ]
  },
  {
   "cell_type": "markdown",
   "id": "4e0024b5",
   "metadata": {},
   "source": [
    "Use another method."
   ]
  },
  {
   "cell_type": "code",
   "execution_count": 35,
   "id": "1849505a",
   "metadata": {},
   "outputs": [
    {
     "data": {
      "text/plain": [
       "0.8721766377742689"
      ]
     },
     "execution_count": 35,
     "metadata": {},
     "output_type": "execute_result"
    }
   ],
   "source": [
    "question_overlap = []\n",
    "terms_used = set()\n",
    "\n",
    "for i, row in jeopardy.iterrows():\n",
    "        split_qion = [q for q in row['split_question'] if len(q) > 5]\n",
    "        match_count = 0\n",
    "        for word in split_qion:\n",
    "            if word in terms_used:\n",
    "                match_count += 1\n",
    "        for word in split_qion:\n",
    "            terms_used.add(word)\n",
    "        if len(split_qion) > 0:\n",
    "            match_count /= len(split_qion)\n",
    "        question_overlap.append(match_count)\n",
    "jeopardy[\"question_overlap\"] = question_overlap\n",
    "\n",
    "jeopardy[\"question_overlap\"].mean()"
   ]
  },
  {
   "cell_type": "markdown",
   "id": "af0af16a",
   "metadata": {},
   "source": [
    "# Find the low value and high value questions."
   ]
  },
  {
   "cell_type": "markdown",
   "id": "0a8d1a82",
   "metadata": {},
   "source": [
    "Let's say you only want to study questions that pertain to high value questions instead of low value questions. This will help you earn more money when you're on Jeopardy.\n",
    "\n",
    "You can actually figure out which terms correspond to high-value questions using a chi-squared test. You'll first need to narrow down the questions into two categories:\n",
    "\n",
    "Low value -- Any row where Value is less than 800.\n",
    "High value -- Any row where Value is greater than 800."
   ]
  },
  {
   "cell_type": "code",
   "execution_count": 36,
   "id": "8e1e07a4",
   "metadata": {},
   "outputs": [],
   "source": [
    "low_value = jeopardy[jeopardy['clean_value'] < 800]\n",
    "high_value = jeopardy[jeopardy['clean_value'] >= 800]"
   ]
  },
  {
   "cell_type": "code",
   "execution_count": 37,
   "id": "a91ca5f8",
   "metadata": {},
   "outputs": [],
   "source": [
    "def value_check(row):\n",
    "    if row['clean_value'] > 800:\n",
    "        value = 1\n",
    "    else:\n",
    "        value = 0\n",
    "    return value"
   ]
  },
  {
   "cell_type": "code",
   "execution_count": 39,
   "id": "2c4286b4",
   "metadata": {},
   "outputs": [],
   "source": [
    "jeopardy['high_value'] = jeopardy.apply(value_check, axis=1)"
   ]
  },
  {
   "cell_type": "code",
   "execution_count": 40,
   "id": "30ee0b53",
   "metadata": {},
   "outputs": [],
   "source": [
    "def count(word):\n",
    "    low_count = 0\n",
    "    high_count = 0\n",
    "    for i, row in jeopardy.iterrows():\n",
    "        if word in row['split_question']:\n",
    "            if row['high_value'] == 1:\n",
    "                high_count += 1\n",
    "            else:\n",
    "                low_count += 1\n",
    "    return high_count, low_count\n",
    "            "
   ]
  },
  {
   "cell_type": "code",
   "execution_count": 46,
   "id": "ee26f956",
   "metadata": {},
   "outputs": [
    {
     "data": {
      "text/plain": [
       "(0, 2)"
      ]
     },
     "execution_count": 46,
     "metadata": {},
     "output_type": "execute_result"
    }
   ],
   "source": [
    "count('crisper')"
   ]
  },
  {
   "cell_type": "code",
   "execution_count": 47,
   "id": "40fd1ee3",
   "metadata": {},
   "outputs": [
    {
     "name": "stdout",
     "output_type": "stream",
     "text": [
      "['tyrannis', 'ingvar', 'grammarian', 'hepburns', 'storsjon', 'riders', 'refectory', 'rokeby', 'hrefhttpwwwjarchivecommedia20100506_j_16jpg', 'hrefhttpwwwjarchivecommedia20071115_j_28jpg']\n",
      "[(2, 4), (3, 2), (0, 1), (3, 7), (0, 1), (12, 34), (0, 1), (1, 0), (0, 1), (0, 1)]\n"
     ]
    }
   ],
   "source": [
    "import random\n",
    "comparison_terms = random.choices(list(terms_used), k=10)\n",
    "print(comparison_terms)\n",
    "observed_expected = []\n",
    "for i in comparison_terms:\n",
    "    observed_expected.append(count(i))\n",
    "print(observed_expected)"
   ]
  },
  {
   "cell_type": "markdown",
   "id": "9fe87f61",
   "metadata": {},
   "source": [
    "Now that you've found the observed counts for a few terms, you can compute the expected counts and the chi-squared value."
   ]
  },
  {
   "cell_type": "code",
   "execution_count": 48,
   "id": "b9b65afd",
   "metadata": {},
   "outputs": [
    {
     "data": {
      "text/plain": [
       "[Power_divergenceResult(statistic=0.22879472296719727, pvalue=0.6324189668574394),\n",
       " Power_divergenceResult(statistic=0.5894848824462151, pvalue=0.44261838063075143),\n",
       " Power_divergenceResult(statistic=0.7544157608695651, pvalue=0.38508176583769604),\n",
       " Power_divergenceResult(statistic=0.6896133651361509, pvalue=0.4062959206925859),\n",
       " Power_divergenceResult(statistic=0.7544157608695651, pvalue=0.38508176583769604),\n",
       " Power_divergenceResult(statistic=5.369147857940487, pvalue=0.02049598824755676),\n",
       " Power_divergenceResult(statistic=0.7544157608695651, pvalue=0.38508176583769604),\n",
       " Power_divergenceResult(statistic=1.325529040972535, pvalue=0.24960216618620146),\n",
       " Power_divergenceResult(statistic=0.7544157608695651, pvalue=0.38508176583769604),\n",
       " Power_divergenceResult(statistic=0.7544157608695651, pvalue=0.38508176583769604)]"
      ]
     },
     "execution_count": 48,
     "metadata": {},
     "output_type": "execute_result"
    }
   ],
   "source": [
    "import numpy as np\n",
    "from scipy.stats import chisquare\n",
    "high_value_count = len(high_value.axes[0])\n",
    "low_value_count = len(low_value.axes[0])\n",
    "chi_squared = []\n",
    "for i in observed_expected:\n",
    "    total = i[0] + i[1]\n",
    "    total_prop = total / len(jeopardy.axes[0])\n",
    "    term_count_high = total_prop * high_value_count\n",
    "    term_count_low = total_prop * low_value_count\n",
    "    observed = np.array(i)\n",
    "    expected = np.array([term_count_high, term_count_low])\n",
    "    chi_squared.append(chisquare(observed, expected))\n",
    "    \n",
    "chi_squared"
   ]
  },
  {
   "cell_type": "markdown",
   "id": "95054944",
   "metadata": {},
   "source": [
    "None of the terms had a significant difference in usage between high value and low value rows. Additionally, the frequencies were all lower than 5, so the chi-squared test isn't as valid. It would be better to run this test with only terms that have higher frequencies."
   ]
  }
 ],
 "metadata": {
  "kernelspec": {
   "display_name": "Python 3 (ipykernel)",
   "language": "python",
   "name": "python3"
  },
  "language_info": {
   "codemirror_mode": {
    "name": "ipython",
    "version": 3
   },
   "file_extension": ".py",
   "mimetype": "text/x-python",
   "name": "python",
   "nbconvert_exporter": "python",
   "pygments_lexer": "ipython3",
   "version": "3.10.2"
  }
 },
 "nbformat": 4,
 "nbformat_minor": 5
}
